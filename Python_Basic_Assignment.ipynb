{
  "nbformat": 4,
  "nbformat_minor": 0,
  "metadata": {
    "colab": {
      "provenance": []
    },
    "kernelspec": {
      "name": "python3",
      "display_name": "Python 3"
    },
    "language_info": {
      "name": "python"
    }
  },
  "cells": [
    {
      "cell_type": "markdown",
      "source": [
        "#Python basic questions"
      ],
      "metadata": {
        "id": "VZlrNW3fHI5K"
      }
    },
    {
      "cell_type": "markdown",
      "source": [
        "1. What is Python, and why is it popular?\n",
        "-> Python is a object oriented programming language. Its application including web development, AI and ML, easy to use and learn are the impotrtant reasons due to which it is very popular. Being open source and big community helped in increasing its popularity.\n",
        "******************"
      ],
      "metadata": {
        "id": "sWFBSvw_2u0S"
      }
    },
    {
      "cell_type": "markdown",
      "source": [
        "2. what is an interpreter in python?\n",
        "-> there are 2 types of programming languages 1. compiled and 2. Interpreted.\n",
        "Python is an interpreted programming language which means it executes code line by line rather than compiling / converting entire block of code before it starts executing.\n",
        "Interpreter is a program which executes the code line by line without compiling code into machine code before hand.\n",
        "***************************************"
      ],
      "metadata": {
        "id": "X8OFTT6Q3nbe"
      }
    },
    {
      "cell_type": "markdown",
      "source": [],
      "metadata": {
        "id": "Qt1IdCOm4h-Z"
      }
    },
    {
      "cell_type": "markdown",
      "source": [
        "3. What are pre-defined keywords in Python\n",
        "->predefined keywords are nothing but the special reserved words in python which has special meaning in a programming language. These keywords cannot be used as Identifiers (variables, function name etc)\n",
        "*****************************"
      ],
      "metadata": {
        "id": "qaNK13aZ4pi8"
      }
    },
    {
      "cell_type": "markdown",
      "source": [],
      "metadata": {
        "id": "YLgIWA0a5OQC"
      }
    },
    {
      "cell_type": "markdown",
      "source": [
        "4. Can keywords be used as variable names?\n",
        "-> No, keywords cannot be used as variable names or as any identifiers because these keywords have already assigned meaning in the programming language. Language reads it in a particular defined way.\n",
        "**************************************"
      ],
      "metadata": {
        "id": "g1-B4lCV5Q-i"
      }
    },
    {
      "cell_type": "markdown",
      "source": [
        "5. What is mutability in python?\n",
        "-> Mutability means the value assigned to a variable of particular datatypes can be changed during runtime. Mutable objects can be modified after creation.\n",
        "For example: we can update elements of type: List but we cannot update any string elements. Hence, List is mutable and string is immutable.\n",
        "***********************************************"
      ],
      "metadata": {
        "id": "mazNENyu5oky"
      }
    },
    {
      "cell_type": "markdown",
      "source": [
        "6. why are lists mutable but tuple immutable?\n",
        "->Lists store references to objects in a resizable array. lists are used we want to update data in runtime.\n",
        "Python stores list elements in memory locations that can be updated.\n",
        "\n",
        "Tuples store references in a fixed-size array. so, we cannot update elements of a tuple.\n",
        "*****************************************\n"
      ],
      "metadata": {
        "id": "2-FHGFKh7sio"
      }
    },
    {
      "cell_type": "markdown",
      "source": [
        "7. What is the difference between “==” and “is” operators in Python?\n",
        "-> \"==\" operator compares the value of variables whereas \"is\" operator compares if they refer to same object in memory.\n",
        "eg: a=12\n",
        "b = 12\n",
        "\n",
        "if we use \"==\" operators output will be True but if we check a is b; output will be false as they are different objects in memory.\n",
        "\n",
        "********************************"
      ],
      "metadata": {
        "id": "aJX6b4Sn-Buj"
      }
    },
    {
      "cell_type": "markdown",
      "source": [
        "8. What are logical operators in Python?\n",
        "-> logical operators are used to combine conditional statements in python. there are 3 types: and, or , not.\n",
        "and = True only if both statements are tru\n",
        "or = True if any one or both statements are true\n",
        "not = reverses the value eg if value is true then it will be reversed to false.\n",
        "*******************************************"
      ],
      "metadata": {
        "id": "flOkn3oR-0CH"
      }
    },
    {
      "cell_type": "markdown",
      "source": [
        "9. what is type casting in python?\n",
        "-> type casting refers to the process where we change the data type of an object to some other data type.\n",
        "eg: if we have string say s = \"12\" we can convert s to number by type casting it into integer from string as int(s) which will convert value of \"12\" to 12. (integer)\n",
        "**********************************************"
      ],
      "metadata": {
        "id": "m2xSaw6a_i5a"
      }
    },
    {
      "cell_type": "markdown",
      "source": [
        "10. What is the difference between implicit and explicit type casting?\n",
        "-> Implicit type casting: Python automatically updates the data type when needed. for example if we are adding 2 numbers of which is of intereger type and other is float. when we add these 2 numbers and assign output to result variable. It will be of float data type\n",
        "a = 5\n",
        "b = 7.0\n",
        "res = a+b (int + float)\n",
        "ans: res= 12.0 (float)\n",
        "\n",
        "Explicit type casting: We need to manually convert the variable from one to another data type eg: k=\"12\", int(k) will transfer the string value \"12\" to integer value 12.\n",
        "********************************************"
      ],
      "metadata": {
        "id": "nb0K-nj8AsUe"
      }
    },
    {
      "cell_type": "markdown",
      "source": [
        "11.What is the purpose of conditional statements in Python?\n",
        "-> Conditional statements are used for decision making in any programming language. In programming there are many instances where we have to decide the flow of program which depends on some conditions.\n",
        "To decide the next actions and flow of program - we have to use the conditional statements. if else and so on.\n",
        "*******************\n",
        "\n"
      ],
      "metadata": {
        "id": "A-x36opgBr3o"
      }
    },
    {
      "cell_type": "markdown",
      "source": [
        "12. How does the elif statement work?\n",
        "-> when we have many conditions to be checked before executing, we use the if elif block rather than writing many different if blocks. each eif block checks certain conditions and executes when the conditions are met.\n",
        "example: a= 15\n",
        "if a==2:\n",
        "  then ...\n",
        "elif a==3:\n",
        "  then....\n",
        "elif a==15:\n",
        "  then execute...\n",
        "else:\n",
        "  then....\n",
        "\n",
        "*****************************"
      ],
      "metadata": {
        "id": "tRdSlA95E2Mb"
      }
    },
    {
      "cell_type": "markdown",
      "source": [
        "13. What is the difference between for and while loops?\n",
        "-> for loops: when we know the number of iterations required and it does not depend on any specific condition.\n",
        "For loop iterates over the specified range.\n",
        "While loop: While loop iterates till the condition is true and stops when the condition becomes false.\n",
        "*****************"
      ],
      "metadata": {
        "id": "kNi9ReKsFYgh"
      }
    },
    {
      "cell_type": "markdown",
      "source": [
        "14. Describe a scenario where a while loop is more suitable than a for loop?\n",
        "-> While loop is preferred when we don't know how many times the loop should run. When the iterations depend on certain conditions that is when a while loop is more suitable. we must ensure while loop has a defined exit or else there are chances that it gets converted into an infinte loop whereas For loop only runs for specified number of iterations as defined.\n",
        "******************"
      ],
      "metadata": {
        "id": "FLHUcDpxGFgE"
      }
    },
    {
      "cell_type": "markdown",
      "source": [
        "#Practical Questions"
      ],
      "metadata": {
        "id": "5UCIYBnrHCyG"
      }
    },
    {
      "cell_type": "markdown",
      "source": [
        "1.Write a Python program to print \"Hello, World!"
      ],
      "metadata": {
        "id": "1pS9MBsdHsYp"
      }
    },
    {
      "cell_type": "code",
      "source": [
        "print(\"Hello, World!\")"
      ],
      "metadata": {
        "colab": {
          "base_uri": "https://localhost:8080/"
        },
        "id": "OLBXOm1bHweg",
        "outputId": "da39e8e0-35f8-4ebb-dca3-02f6f4762dc5"
      },
      "execution_count": 1,
      "outputs": [
        {
          "output_type": "stream",
          "name": "stdout",
          "text": [
            "Hello, World!\n"
          ]
        }
      ]
    },
    {
      "cell_type": "markdown",
      "source": [
        "2. Write a Python program that displays your name and age."
      ],
      "metadata": {
        "id": "r0L2zelHH392"
      }
    },
    {
      "cell_type": "code",
      "source": [
        "name = \"Prateek Kulkarni\"\n",
        "age = 27\n",
        "\n",
        "print (\"My name is\", name)\n",
        "print(\"My age is\", age)"
      ],
      "metadata": {
        "colab": {
          "base_uri": "https://localhost:8080/"
        },
        "id": "c3T7mJ62H-N8",
        "outputId": "cb063643-c311-4cd5-ab6b-7ada3bb91aa3"
      },
      "execution_count": 2,
      "outputs": [
        {
          "output_type": "stream",
          "name": "stdout",
          "text": [
            "My name is Prateek Kulkarni\n",
            "My age is 27\n"
          ]
        }
      ]
    },
    {
      "cell_type": "markdown",
      "source": [
        "3. Write code to print all the pre-defined keywords in Python using the keyword library."
      ],
      "metadata": {
        "id": "Wh3tktiRHHFy"
      }
    },
    {
      "cell_type": "code",
      "source": [
        "import keyword\n",
        "print (keyword.kwlist)"
      ],
      "metadata": {
        "colab": {
          "base_uri": "https://localhost:8080/"
        },
        "id": "iOyBs0PEIVJ2",
        "outputId": "5d152587-6231-449d-95d0-218e1404de34"
      },
      "execution_count": 3,
      "outputs": [
        {
          "output_type": "stream",
          "name": "stdout",
          "text": [
            "['False', 'None', 'True', 'and', 'as', 'assert', 'async', 'await', 'break', 'class', 'continue', 'def', 'del', 'elif', 'else', 'except', 'finally', 'for', 'from', 'global', 'if', 'import', 'in', 'is', 'lambda', 'nonlocal', 'not', 'or', 'pass', 'raise', 'return', 'try', 'while', 'with', 'yield']\n"
          ]
        }
      ]
    },
    {
      "cell_type": "markdown",
      "source": [
        "4. Write a program that checks if a given word is a Python keyword."
      ],
      "metadata": {
        "id": "L97XbBYgGAZe"
      }
    },
    {
      "cell_type": "code",
      "source": [
        "import keyword\n",
        "\n",
        "word = input()\n",
        "if keyword.iskeyword(word):\n",
        "  print(\"It is a Keyword\", word)\n",
        "else:\n",
        "  print(\"It is not a Keyword\", word)"
      ],
      "metadata": {
        "colab": {
          "base_uri": "https://localhost:8080/"
        },
        "id": "HkbaAapbIxjz",
        "outputId": "cce88f43-712f-489f-ebb4-c3b427ff6751"
      },
      "execution_count": 5,
      "outputs": [
        {
          "output_type": "stream",
          "name": "stdout",
          "text": [
            "hello\n",
            "It is not a Keyword hello\n"
          ]
        }
      ]
    },
    {
      "cell_type": "markdown",
      "source": [
        "5. Create a list and tuple in Python, and demonstrate how attempting to change an element works differently\n",
        "for each."
      ],
      "metadata": {
        "id": "3F1j6oSNJPq1"
      }
    },
    {
      "cell_type": "code",
      "source": [
        "l = [1,2,3,4,5]\n",
        "t = (1,2,3,4)\n",
        "\n",
        "#we will now attempt to change element at 1st position in list to 10\n",
        "l[0]= 10\n",
        "print (l)\n",
        "\n"
      ],
      "metadata": {
        "colab": {
          "base_uri": "https://localhost:8080/"
        },
        "id": "nRr6q8KwJV6r",
        "outputId": "614ba3f2-87d6-4b6d-e3d1-a10f1242aaed"
      },
      "execution_count": 6,
      "outputs": [
        {
          "output_type": "stream",
          "name": "stdout",
          "text": [
            "[10, 2, 3, 4, 5]\n"
          ]
        }
      ]
    },
    {
      "cell_type": "code",
      "source": [
        "#we will now attempt to change element at 1st position in tuple to 10\n",
        "t[0]= 10\n",
        "print (t)\n",
        "\n",
        "# we cannot update tuple as it is immutable"
      ],
      "metadata": {
        "colab": {
          "base_uri": "https://localhost:8080/",
          "height": 176
        },
        "id": "NpTaKp_aJqy0",
        "outputId": "5197ef59-3f6a-47a1-a22d-df8a8a5ae7ae"
      },
      "execution_count": 7,
      "outputs": [
        {
          "output_type": "error",
          "ename": "TypeError",
          "evalue": "'tuple' object does not support item assignment",
          "traceback": [
            "\u001b[0;31m---------------------------------------------------------------------------\u001b[0m",
            "\u001b[0;31mTypeError\u001b[0m                                 Traceback (most recent call last)",
            "\u001b[0;32m/tmp/ipython-input-7-2847570105.py\u001b[0m in \u001b[0;36m<cell line: 0>\u001b[0;34m()\u001b[0m\n\u001b[1;32m      1\u001b[0m \u001b[0;31m#we will now attempt to change element at 1st position in tuple to 10\u001b[0m\u001b[0;34m\u001b[0m\u001b[0;34m\u001b[0m\u001b[0m\n\u001b[0;32m----> 2\u001b[0;31m \u001b[0mt\u001b[0m\u001b[0;34m[\u001b[0m\u001b[0;36m0\u001b[0m\u001b[0;34m]\u001b[0m\u001b[0;34m=\u001b[0m \u001b[0;36m10\u001b[0m\u001b[0;34m\u001b[0m\u001b[0;34m\u001b[0m\u001b[0m\n\u001b[0m\u001b[1;32m      3\u001b[0m \u001b[0mprint\u001b[0m \u001b[0;34m(\u001b[0m\u001b[0mt\u001b[0m\u001b[0;34m)\u001b[0m\u001b[0;34m\u001b[0m\u001b[0;34m\u001b[0m\u001b[0m\n",
            "\u001b[0;31mTypeError\u001b[0m: 'tuple' object does not support item assignment"
          ]
        }
      ]
    },
    {
      "cell_type": "markdown",
      "source": [
        "6. Write a function to demonstrate the behavior of mutable and immutable arguments."
      ],
      "metadata": {
        "id": "QyZR11xMJweI"
      }
    },
    {
      "cell_type": "code",
      "source": [
        "def value_update(num, my_lst):\n",
        "    print(\"\\nbefore modification:\")\n",
        "    print(\"num =\", num)\n",
        "    print(\"my_lst =\", my_lst)\n",
        "\n",
        "    num += 5 #updating number value\n",
        "    my_lst.append(4)    # updating list\n",
        "    print(\"\\nafter modification:\")\n",
        "    print(\"num =\", num)\n",
        "    print(\"my_lst =\", my_lst)\n",
        "\n",
        "\n",
        "n = 5\n",
        "lst = [1, 2, 3]\n",
        "\n",
        "print(\"Before call:\")\n",
        "print(\"n =\", n)\n",
        "print(\"lst =\", lst)\n",
        "\n",
        "\n",
        "value_update(x, lst)\n",
        "\n",
        "print(\"\\nAfter call:\")\n",
        "print(\"n =\", n)       # number value won't change\n",
        "print(\"lst =\", lst)    # list value got updated\n"
      ],
      "metadata": {
        "colab": {
          "base_uri": "https://localhost:8080/"
        },
        "id": "WRYHSJWmMZqH",
        "outputId": "3356b824-44ae-44d7-e3ac-ad044a32ced8"
      },
      "execution_count": 14,
      "outputs": [
        {
          "output_type": "stream",
          "name": "stdout",
          "text": [
            "Before call:\n",
            "n = 5\n",
            "lst = [1, 2, 3]\n",
            "\n",
            "before modification:\n",
            "num = 5\n",
            "my_lst = [1, 2, 3]\n",
            "\n",
            "after modification:\n",
            "num = 10\n",
            "my_lst = [1, 2, 3, 4]\n",
            "\n",
            "After call:\n",
            "n = 5\n",
            "lst = [1, 2, 3, 4]\n"
          ]
        }
      ]
    },
    {
      "cell_type": "markdown",
      "source": [
        "7. Write a program that performs basic arithmetic operations on two user-input numbers."
      ],
      "metadata": {
        "id": "umEFImBOOAZh"
      }
    },
    {
      "cell_type": "code",
      "source": [
        "a = int(input(\"Enter first number: \"))\n",
        "b = int(input(\"Enter second number: \"))\n",
        "\n",
        "result = a+b\n",
        "\n",
        "print(\"Addition is: \", result)"
      ],
      "metadata": {
        "colab": {
          "base_uri": "https://localhost:8080/"
        },
        "id": "eQ-oJ71MOAFM",
        "outputId": "6eddb15f-bd93-40b9-a9c5-ab11edf821c0"
      },
      "execution_count": 17,
      "outputs": [
        {
          "output_type": "stream",
          "name": "stdout",
          "text": [
            "Enter first number: 20\n",
            "Enter second number: 10\n",
            "Addition is:  30\n"
          ]
        }
      ]
    },
    {
      "cell_type": "markdown",
      "source": [
        "8. Write a program to demonstrate the use of logical operators."
      ],
      "metadata": {
        "id": "p8KjwIV4PK86"
      }
    },
    {
      "cell_type": "code",
      "source": [
        "a = 10\n",
        "b = 5\n",
        "c = 15\n",
        "\n",
        "#AND\n",
        "if (a>b and a>c):\n",
        "  print (\"Greatest number\", a)\n",
        "elif (b>a and b>c):\n",
        "  print (\"Greatest number\", b)\n",
        "elif (c>a and c>b):\n",
        "  print (\"Greatest number\", c)\n",
        "\n",
        "#OR\n",
        "if (a+b>c or c>a):\n",
        "  print(\"Second condition is True\")\n",
        "else:\n",
        "  print(\"Both conditions are false\")\n"
      ],
      "metadata": {
        "colab": {
          "base_uri": "https://localhost:8080/"
        },
        "id": "5zwGsGq7Qso5",
        "outputId": "eb6b740e-1729-4b66-cfb4-597ee9116832"
      },
      "execution_count": 20,
      "outputs": [
        {
          "output_type": "stream",
          "name": "stdout",
          "text": [
            "Greatest number 15\n",
            "Second condition is True\n"
          ]
        }
      ]
    },
    {
      "cell_type": "markdown",
      "source": [
        "9. Write a Python program to convert user input from string to integer, float, and boolean types."
      ],
      "metadata": {
        "id": "_Pq8R8l3RTeF"
      }
    },
    {
      "cell_type": "code",
      "source": [
        "#user input in string\n",
        "str_input = input()\n",
        "c_int = int(str_input)\n",
        "c_float = float(str_input)\n",
        "c_bool = bool(str_input)\n",
        "\n",
        "print(c_int, c_float, c_bool)"
      ],
      "metadata": {
        "colab": {
          "base_uri": "https://localhost:8080/"
        },
        "id": "ATLTYayVRXs8",
        "outputId": "f0c66081-ebee-4985-c5de-a3a336378a55"
      },
      "execution_count": 23,
      "outputs": [
        {
          "output_type": "stream",
          "name": "stdout",
          "text": [
            "12\n",
            "12 12.0 True\n"
          ]
        }
      ]
    },
    {
      "cell_type": "markdown",
      "source": [
        "10. Write code to demonstrate type casting with list elements."
      ],
      "metadata": {
        "id": "vzvNcAP8nERh"
      }
    },
    {
      "cell_type": "code",
      "source": [
        "#list initial\n",
        "\n",
        "str_l = [\"10\",\"20\",\"30\"]\n",
        "\n",
        "for i in range(len(str_l)):\n",
        "  #converting each string element to integer\n",
        "  str_l[i] = int(str_l[i])\n",
        "\n",
        "print(str_l)"
      ],
      "metadata": {
        "colab": {
          "base_uri": "https://localhost:8080/"
        },
        "id": "xoWK5FXJnKKY",
        "outputId": "b98790a6-2884-4467-b57c-398c9b20ac6a"
      },
      "execution_count": 25,
      "outputs": [
        {
          "output_type": "stream",
          "name": "stdout",
          "text": [
            "[10, 20, 30]\n"
          ]
        }
      ]
    },
    {
      "cell_type": "markdown",
      "source": [
        "11. Write a program that checks if a number is positive, negative, or zero"
      ],
      "metadata": {
        "id": "RO2gVvHWnxhX"
      }
    },
    {
      "cell_type": "code",
      "source": [
        "# taking number as input\n",
        "n = int(input())\n",
        "\n",
        "if n>0:\n",
        "  print(\"Number is positive\")\n",
        "elif n<0:\n",
        "  print(\"Number is negative\")\n",
        "else:\n",
        "  print(\"Number is zero\")"
      ],
      "metadata": {
        "colab": {
          "base_uri": "https://localhost:8080/"
        },
        "id": "wigePDLMn8tr",
        "outputId": "ce79fc08-f6ff-493a-fbe6-114696753c9e"
      },
      "execution_count": 28,
      "outputs": [
        {
          "output_type": "stream",
          "name": "stdout",
          "text": [
            "-5\n",
            "Number is negative\n"
          ]
        }
      ]
    },
    {
      "cell_type": "markdown",
      "source": [
        "12. Write a for loop to print numbers from 1 to 10."
      ],
      "metadata": {
        "id": "OiWfEySUoqYC"
      }
    },
    {
      "cell_type": "code",
      "source": [
        "for i in range(1, 11):\n",
        "  print (i)"
      ],
      "metadata": {
        "colab": {
          "base_uri": "https://localhost:8080/"
        },
        "id": "--o_asWvouHu",
        "outputId": "0649d8f4-26da-47c3-daaa-734bdcddc087"
      },
      "execution_count": 31,
      "outputs": [
        {
          "output_type": "stream",
          "name": "stdout",
          "text": [
            "1\n",
            "2\n",
            "3\n",
            "4\n",
            "5\n",
            "6\n",
            "7\n",
            "8\n",
            "9\n",
            "10\n"
          ]
        }
      ]
    },
    {
      "cell_type": "markdown",
      "source": [
        "13. Write a Python program to find the sum of all even numbers between 1 and 50.\n",
        "\n"
      ],
      "metadata": {
        "id": "4rVz0LJeo4mj"
      }
    },
    {
      "cell_type": "code",
      "source": [
        "# % to check if number is even. If even then adding the value to overall result in loop\n",
        "res =0\n",
        "for i in range (1,51):\n",
        "  if i%2 ==0:\n",
        "    res = i + res\n",
        "print (res)"
      ],
      "metadata": {
        "colab": {
          "base_uri": "https://localhost:8080/"
        },
        "id": "WStaP2jeo9ES",
        "outputId": "83a0d517-e74e-45ca-e0cf-c766b065c52f"
      },
      "execution_count": 32,
      "outputs": [
        {
          "output_type": "stream",
          "name": "stdout",
          "text": [
            "650\n"
          ]
        }
      ]
    },
    {
      "cell_type": "markdown",
      "source": [
        "14. Write a program to reverse a string using a while loop."
      ],
      "metadata": {
        "id": "kF4sVXp5pQXU"
      }
    },
    {
      "cell_type": "code",
      "source": [
        "inp_str = input()\n",
        "\n",
        "rev_str = \"\"\n",
        "#getting total length of string (characters)\n",
        "ind = len(inp_str)-1\n",
        "#traversing till last string element\n",
        "while ind>=0:\n",
        "  rev_str+=inp_str[ind]\n",
        "  ind-=1\n",
        "print(rev_str)"
      ],
      "metadata": {
        "colab": {
          "base_uri": "https://localhost:8080/"
        },
        "id": "5f8f6TOspa7O",
        "outputId": "f7bb3b6c-93fd-456a-d645-0ab81582278c"
      },
      "execution_count": 34,
      "outputs": [
        {
          "output_type": "stream",
          "name": "stdout",
          "text": [
            "prateek\n",
            "keetarp\n"
          ]
        }
      ]
    },
    {
      "cell_type": "markdown",
      "source": [
        "15. Write a Python program to calculate the factorial of a number provided by the user using a while loop."
      ],
      "metadata": {
        "id": "AbjnGb8NqOjX"
      }
    },
    {
      "cell_type": "code",
      "source": [
        "n = int(input())\n",
        "fact =1\n",
        "# factorial of 0 and 1 is 1\n",
        "if n==0:\n",
        "  print (\"1\")\n",
        "elif n==1:\n",
        "  print(\"1\")\n",
        "else:\n",
        "  while n>1:\n",
        "    fact = fact*(n)\n",
        "    n=n-1\n",
        "print(fact)"
      ],
      "metadata": {
        "colab": {
          "base_uri": "https://localhost:8080/"
        },
        "id": "FxBQHrSsqXAa",
        "outputId": "83e87719-1a42-4783-f526-810def815dad"
      },
      "execution_count": 40,
      "outputs": [
        {
          "output_type": "stream",
          "name": "stdout",
          "text": [
            "5\n",
            "120\n"
          ]
        }
      ]
    }
  ]
}